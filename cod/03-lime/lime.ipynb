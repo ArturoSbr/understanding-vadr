{
 "cells": [
  {
   "cell_type": "markdown",
   "id": "a69f9a5d",
   "metadata": {},
   "source": [
    "## Set up local environment\n",
    "Import libraries"
   ]
  },
  {
   "cell_type": "code",
   "execution_count": 1,
   "id": "c0ece68e",
   "metadata": {},
   "outputs": [],
   "source": [
    "import pandas as pd\n",
    "from scipy import stats\n",
    "from vaderSentiment.vaderSentiment import SentimentIntensityAnalyzer\n",
    "from sklearn.linear_model import Lasso"
   ]
  },
  {
   "cell_type": "markdown",
   "id": "1575b821",
   "metadata": {},
   "source": [
    "Read comments as data frame"
   ]
  },
  {
   "cell_type": "code",
   "execution_count": 2,
   "id": "5476051f",
   "metadata": {
    "scrolled": true
   },
   "outputs": [
    {
     "data": {
      "text/html": [
       "<div>\n",
       "<style scoped>\n",
       "    .dataframe tbody tr th:only-of-type {\n",
       "        vertical-align: middle;\n",
       "    }\n",
       "\n",
       "    .dataframe tbody tr th {\n",
       "        vertical-align: top;\n",
       "    }\n",
       "\n",
       "    .dataframe thead th {\n",
       "        text-align: right;\n",
       "    }\n",
       "</style>\n",
       "<table border=\"1\" class=\"dataframe\">\n",
       "  <thead>\n",
       "    <tr style=\"text-align: right;\">\n",
       "      <th></th>\n",
       "      <th>comment</th>\n",
       "      <th>author</th>\n",
       "      <th>date</th>\n",
       "      <th>score</th>\n",
       "    </tr>\n",
       "  </thead>\n",
       "  <tbody>\n",
       "    <tr>\n",
       "      <th>0</th>\n",
       "      <td>1:11 amazing how missing features that previou...</td>\n",
       "      <td>Ivan Galvagno</td>\n",
       "      <td>2022-05-12T13:06:58Z</td>\n",
       "      <td>0.129</td>\n",
       "    </tr>\n",
       "    <tr>\n",
       "      <th>1</th>\n",
       "      <td>How tf they managed to screw this up?</td>\n",
       "      <td>Rbarzevedo</td>\n",
       "      <td>2022-05-12T12:35:43Z</td>\n",
       "      <td>0.167</td>\n",
       "    </tr>\n",
       "    <tr>\n",
       "      <th>2</th>\n",
       "      <td>Still a weird choice to put a remix of kicksta...</td>\n",
       "      <td>Some Turkey Nuts</td>\n",
       "      <td>2022-05-11T21:27:56Z</td>\n",
       "      <td>0.090</td>\n",
       "    </tr>\n",
       "    <tr>\n",
       "      <th>3</th>\n",
       "      <td>Im still waiting for the full game to come out.</td>\n",
       "      <td>Dozer</td>\n",
       "      <td>2022-05-11T13:57:38Z</td>\n",
       "      <td>0.000</td>\n",
       "    </tr>\n",
       "    <tr>\n",
       "      <th>4</th>\n",
       "      <td>My dads generation had Bad Company. \\nMy gener...</td>\n",
       "      <td>Leadkiss</td>\n",
       "      <td>2022-05-11T12:21:19Z</td>\n",
       "      <td>0.280</td>\n",
       "    </tr>\n",
       "  </tbody>\n",
       "</table>\n",
       "</div>"
      ],
      "text/plain": [
       "                                             comment            author  \\\n",
       "0  1:11 amazing how missing features that previou...     Ivan Galvagno   \n",
       "1              How tf they managed to screw this up?        Rbarzevedo   \n",
       "2  Still a weird choice to put a remix of kicksta...  Some Turkey Nuts   \n",
       "3    Im still waiting for the full game to come out.             Dozer   \n",
       "4  My dads generation had Bad Company. \\nMy gener...          Leadkiss   \n",
       "\n",
       "                   date  score  \n",
       "0  2022-05-12T13:06:58Z  0.129  \n",
       "1  2022-05-12T12:35:43Z  0.167  \n",
       "2  2022-05-11T21:27:56Z  0.090  \n",
       "3  2022-05-11T13:57:38Z  0.000  \n",
       "4  2022-05-11T12:21:19Z  0.280  "
      ]
     },
     "execution_count": 2,
     "metadata": {},
     "output_type": "execute_result"
    }
   ],
   "source": [
    "df = pd.read_csv('../../dat/scored_comments.csv')\n",
    "df.head()"
   ]
  },
  {
   "cell_type": "markdown",
   "id": "c719e49e",
   "metadata": {},
   "source": [
    "Initialize VADER"
   ]
  },
  {
   "cell_type": "code",
   "execution_count": 3,
   "id": "0854db5a",
   "metadata": {},
   "outputs": [],
   "source": [
    "m = SentimentIntensityAnalyzer()"
   ]
  },
  {
   "cell_type": "markdown",
   "id": "3149dfa1",
   "metadata": {},
   "source": [
    "## Example for a single comment\n",
    "Extract a single comment from the entire comment section and manually repeat the process carried out by LIME."
   ]
  },
  {
   "cell_type": "code",
   "execution_count": 4,
   "id": "cbe387eb",
   "metadata": {},
   "outputs": [
    {
     "name": "stdout",
     "output_type": "stream",
     "text": [
      "Selected comment:\n",
      "  How tf they managed to screw this up?\n",
      "Comment as list of words:\n",
      "  ['How', 'tf', 'they', 'managed', 'to', 'screw', 'this', 'up?']\n"
     ]
    }
   ],
   "source": [
    "# Extract one comment from `df`\n",
    "c = df.iloc[1]\n",
    "comment = c['comment']\n",
    "print('Selected comment:', comment, sep='\\n  ')\n",
    "\n",
    "# Comment into list\n",
    "words = [word for word in comment.split(' ')]\n",
    "print('Comment as list of words:', words, sep='\\n  ')"
   ]
  },
  {
   "cell_type": "markdown",
   "id": "045fbd60",
   "metadata": {},
   "source": [
    "Randomly take out words from comment"
   ]
  },
  {
   "cell_type": "code",
   "execution_count": 5,
   "id": "f5f7a5bf",
   "metadata": {},
   "outputs": [],
   "source": [
    "# Initialize bernoulli distribution\n",
    "B = stats.bernoulli(p=0.8)\n",
    "\n",
    "# Select words based on Bernoulli random variable (N times)\n",
    "d = []\n",
    "for i in range(100):\n",
    "    d.append(list(B.rvs(len(words), random_state=42+i)))\n",
    "    \n",
    "# Modifications to data frame\n",
    "t = pd.DataFrame(data=d, columns=words)\n",
    "\n",
    "# Remove duplicates\n",
    "t = t.drop_duplicates()\n",
    "\n",
    "# Set weight based on closeness to original text\n",
    "t['weight'] = t.sum(axis=1) / len(words)\n",
    "\n",
    "# Drop entries where closeness is 1\n",
    "t = t[t['weight'] < 1].reset_index(drop=True)\n",
    "\n",
    "# Get original score\n",
    "t['score0'] = c['score']"
   ]
  },
  {
   "cell_type": "markdown",
   "id": "17beffde",
   "metadata": {},
   "source": [
    "Score new observations"
   ]
  },
  {
   "cell_type": "code",
   "execution_count": 6,
   "id": "1943e4d3",
   "metadata": {},
   "outputs": [
    {
     "data": {
      "text/html": [
       "<div>\n",
       "<style scoped>\n",
       "    .dataframe tbody tr th:only-of-type {\n",
       "        vertical-align: middle;\n",
       "    }\n",
       "\n",
       "    .dataframe tbody tr th {\n",
       "        vertical-align: top;\n",
       "    }\n",
       "\n",
       "    .dataframe thead th {\n",
       "        text-align: right;\n",
       "    }\n",
       "</style>\n",
       "<table border=\"1\" class=\"dataframe\">\n",
       "  <thead>\n",
       "    <tr style=\"text-align: right;\">\n",
       "      <th></th>\n",
       "      <th>How</th>\n",
       "      <th>tf</th>\n",
       "      <th>they</th>\n",
       "      <th>managed</th>\n",
       "      <th>to</th>\n",
       "      <th>screw</th>\n",
       "      <th>this</th>\n",
       "      <th>up?</th>\n",
       "      <th>weight</th>\n",
       "      <th>score0</th>\n",
       "      <th>score1</th>\n",
       "    </tr>\n",
       "  </thead>\n",
       "  <tbody>\n",
       "    <tr>\n",
       "      <th>0</th>\n",
       "      <td>1</td>\n",
       "      <td>0</td>\n",
       "      <td>1</td>\n",
       "      <td>1</td>\n",
       "      <td>1</td>\n",
       "      <td>1</td>\n",
       "      <td>1</td>\n",
       "      <td>0</td>\n",
       "      <td>0.750</td>\n",
       "      <td>0.167</td>\n",
       "      <td>0.189</td>\n",
       "    </tr>\n",
       "    <tr>\n",
       "      <th>1</th>\n",
       "      <td>1</td>\n",
       "      <td>1</td>\n",
       "      <td>1</td>\n",
       "      <td>1</td>\n",
       "      <td>1</td>\n",
       "      <td>0</td>\n",
       "      <td>1</td>\n",
       "      <td>1</td>\n",
       "      <td>0.875</td>\n",
       "      <td>0.167</td>\n",
       "      <td>0.000</td>\n",
       "    </tr>\n",
       "    <tr>\n",
       "      <th>2</th>\n",
       "      <td>0</td>\n",
       "      <td>1</td>\n",
       "      <td>1</td>\n",
       "      <td>1</td>\n",
       "      <td>1</td>\n",
       "      <td>1</td>\n",
       "      <td>1</td>\n",
       "      <td>1</td>\n",
       "      <td>0.875</td>\n",
       "      <td>0.167</td>\n",
       "      <td>0.167</td>\n",
       "    </tr>\n",
       "    <tr>\n",
       "      <th>3</th>\n",
       "      <td>1</td>\n",
       "      <td>0</td>\n",
       "      <td>1</td>\n",
       "      <td>1</td>\n",
       "      <td>1</td>\n",
       "      <td>1</td>\n",
       "      <td>1</td>\n",
       "      <td>1</td>\n",
       "      <td>0.875</td>\n",
       "      <td>0.167</td>\n",
       "      <td>0.167</td>\n",
       "    </tr>\n",
       "    <tr>\n",
       "      <th>4</th>\n",
       "      <td>1</td>\n",
       "      <td>0</td>\n",
       "      <td>1</td>\n",
       "      <td>1</td>\n",
       "      <td>1</td>\n",
       "      <td>1</td>\n",
       "      <td>0</td>\n",
       "      <td>1</td>\n",
       "      <td>0.750</td>\n",
       "      <td>0.167</td>\n",
       "      <td>0.189</td>\n",
       "    </tr>\n",
       "  </tbody>\n",
       "</table>\n",
       "</div>"
      ],
      "text/plain": [
       "   How  tf  they  managed  to  screw  this  up?  weight  score0  score1\n",
       "0    1   0     1        1   1      1     1    0   0.750   0.167   0.189\n",
       "1    1   1     1        1   1      0     1    1   0.875   0.167   0.000\n",
       "2    0   1     1        1   1      1     1    1   0.875   0.167   0.167\n",
       "3    1   0     1        1   1      1     1    1   0.875   0.167   0.167\n",
       "4    1   0     1        1   1      1     0    1   0.750   0.167   0.189"
      ]
     },
     "execution_count": 6,
     "metadata": {},
     "output_type": "execute_result"
    }
   ],
   "source": [
    "# Initialize empty list\n",
    "scores = []\n",
    "\n",
    "for i in t.index.values:\n",
    "    # Extract modified version of text\n",
    "    mod = t.iloc[i, :-1]\n",
    "    mod = ' '.join(list(mod[mod > 0].index.values))\n",
    "\n",
    "    # Append score to list\n",
    "    scores.append(m.polarity_scores(mod)['neg'])\n",
    "\n",
    "# Add new scores to `t`\n",
    "t['score1'] = scores\n",
    "\n",
    "# Visualize\n",
    "t.head()\n",
    "\n",
    "# To latex\n",
    "# print(t.head().to_latex(float_format='%.3f', index=False))"
   ]
  },
  {
   "cell_type": "markdown",
   "id": "f65e582d",
   "metadata": {},
   "source": [
    "Fit lasso"
   ]
  },
  {
   "cell_type": "code",
   "execution_count": 7,
   "id": "2fc55225",
   "metadata": {},
   "outputs": [
    {
     "data": {
      "text/plain": [
       "Lasso(alpha=0.1, fit_intercept=False)"
      ]
     },
     "execution_count": 7,
     "metadata": {},
     "output_type": "execute_result"
    }
   ],
   "source": [
    "m = Lasso(alpha=0.1, fit_intercept=False)\n",
    "m.fit(X=t[['score1']], y=t.loc[:, 'How':'up?'], sample_weight=t['weight'])"
   ]
  },
  {
   "cell_type": "markdown",
   "id": "0dbd67c3",
   "metadata": {},
   "source": [
    "LIME explanation at data point"
   ]
  },
  {
   "cell_type": "code",
   "execution_count": 8,
   "id": "d6903da8",
   "metadata": {},
   "outputs": [
    {
     "data": {
      "text/html": [
       "<div>\n",
       "<style scoped>\n",
       "    .dataframe tbody tr th:only-of-type {\n",
       "        vertical-align: middle;\n",
       "    }\n",
       "\n",
       "    .dataframe tbody tr th {\n",
       "        vertical-align: top;\n",
       "    }\n",
       "\n",
       "    .dataframe thead th {\n",
       "        text-align: right;\n",
       "    }\n",
       "</style>\n",
       "<table border=\"1\" class=\"dataframe\">\n",
       "  <thead>\n",
       "    <tr style=\"text-align: right;\">\n",
       "      <th></th>\n",
       "      <th>Word</th>\n",
       "      <th>Coef</th>\n",
       "    </tr>\n",
       "  </thead>\n",
       "  <tbody>\n",
       "    <tr>\n",
       "      <th>0</th>\n",
       "      <td>How</td>\n",
       "      <td>0.426543</td>\n",
       "    </tr>\n",
       "    <tr>\n",
       "      <th>1</th>\n",
       "      <td>tf</td>\n",
       "      <td>0.426543</td>\n",
       "    </tr>\n",
       "    <tr>\n",
       "      <th>2</th>\n",
       "      <td>they</td>\n",
       "      <td>0.000000</td>\n",
       "    </tr>\n",
       "    <tr>\n",
       "      <th>3</th>\n",
       "      <td>managed</td>\n",
       "      <td>0.106499</td>\n",
       "    </tr>\n",
       "    <tr>\n",
       "      <th>4</th>\n",
       "      <td>to</td>\n",
       "      <td>0.000000</td>\n",
       "    </tr>\n",
       "    <tr>\n",
       "      <th>5</th>\n",
       "      <td>screw</td>\n",
       "      <td>1.622989</td>\n",
       "    </tr>\n",
       "    <tr>\n",
       "      <th>6</th>\n",
       "      <td>this</td>\n",
       "      <td>0.000000</td>\n",
       "    </tr>\n",
       "    <tr>\n",
       "      <th>7</th>\n",
       "      <td>up?</td>\n",
       "      <td>0.000000</td>\n",
       "    </tr>\n",
       "  </tbody>\n",
       "</table>\n",
       "</div>"
      ],
      "text/plain": [
       "      Word      Coef\n",
       "0      How  0.426543\n",
       "1       tf  0.426543\n",
       "2     they  0.000000\n",
       "3  managed  0.106499\n",
       "4       to  0.000000\n",
       "5    screw  1.622989\n",
       "6     this  0.000000\n",
       "7      up?  0.000000"
      ]
     },
     "execution_count": 8,
     "metadata": {},
     "output_type": "execute_result"
    }
   ],
   "source": [
    "# Get fitted parameters\n",
    "res = pd.DataFrame({'Word':t.columns.values[:len(words)], 'Coef':m.coef_.flatten()})\n",
    "\n",
    "# Visualize\n",
    "res\n",
    "\n",
    "# To latex\n",
    "# print(res.to_latex(index=False, float_format='%.2f'))"
   ]
  }
 ],
 "metadata": {
  "kernelspec": {
   "display_name": "venv",
   "language": "python",
   "name": "venv"
  },
  "language_info": {
   "codemirror_mode": {
    "name": "ipython",
    "version": 3
   },
   "file_extension": ".py",
   "mimetype": "text/x-python",
   "name": "python",
   "nbconvert_exporter": "python",
   "pygments_lexer": "ipython3",
   "version": "3.8.8"
  }
 },
 "nbformat": 4,
 "nbformat_minor": 5
}
