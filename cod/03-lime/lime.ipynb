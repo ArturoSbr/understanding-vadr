{
 "cells": [
  {
   "cell_type": "code",
   "execution_count": 37,
   "id": "c0ece68e",
   "metadata": {},
   "outputs": [],
   "source": [
    "import pandas as pd\n",
    "from scipy import stats\n",
    "from vaderSentiment import vaderSentiment"
   ]
  },
  {
   "cell_type": "code",
   "execution_count": 4,
   "id": "5476051f",
   "metadata": {},
   "outputs": [
    {
     "data": {
      "text/html": [
       "<div>\n",
       "<style scoped>\n",
       "    .dataframe tbody tr th:only-of-type {\n",
       "        vertical-align: middle;\n",
       "    }\n",
       "\n",
       "    .dataframe tbody tr th {\n",
       "        vertical-align: top;\n",
       "    }\n",
       "\n",
       "    .dataframe thead th {\n",
       "        text-align: right;\n",
       "    }\n",
       "</style>\n",
       "<table border=\"1\" class=\"dataframe\">\n",
       "  <thead>\n",
       "    <tr style=\"text-align: right;\">\n",
       "      <th></th>\n",
       "      <th>comment</th>\n",
       "      <th>author</th>\n",
       "      <th>date</th>\n",
       "      <th>score</th>\n",
       "    </tr>\n",
       "  </thead>\n",
       "  <tbody>\n",
       "    <tr>\n",
       "      <th>0</th>\n",
       "      <td>1:11 amazing how missing features that previou...</td>\n",
       "      <td>Ivan Galvagno</td>\n",
       "      <td>2022-05-12T13:06:58Z</td>\n",
       "      <td>0.129</td>\n",
       "    </tr>\n",
       "    <tr>\n",
       "      <th>1</th>\n",
       "      <td>How tf they managed to screw this up?</td>\n",
       "      <td>Rbarzevedo</td>\n",
       "      <td>2022-05-12T12:35:43Z</td>\n",
       "      <td>0.167</td>\n",
       "    </tr>\n",
       "    <tr>\n",
       "      <th>2</th>\n",
       "      <td>Still a weird choice to put a remix of kicksta...</td>\n",
       "      <td>Some Turkey Nuts</td>\n",
       "      <td>2022-05-11T21:27:56Z</td>\n",
       "      <td>0.090</td>\n",
       "    </tr>\n",
       "    <tr>\n",
       "      <th>3</th>\n",
       "      <td>Im still waiting for the full game to come out.</td>\n",
       "      <td>Dozer</td>\n",
       "      <td>2022-05-11T13:57:38Z</td>\n",
       "      <td>0.000</td>\n",
       "    </tr>\n",
       "    <tr>\n",
       "      <th>4</th>\n",
       "      <td>My dads generation had Bad Company. \\nMy gener...</td>\n",
       "      <td>Leadkiss</td>\n",
       "      <td>2022-05-11T12:21:19Z</td>\n",
       "      <td>0.280</td>\n",
       "    </tr>\n",
       "  </tbody>\n",
       "</table>\n",
       "</div>"
      ],
      "text/plain": [
       "                                             comment            author  \\\n",
       "0  1:11 amazing how missing features that previou...     Ivan Galvagno   \n",
       "1              How tf they managed to screw this up?        Rbarzevedo   \n",
       "2  Still a weird choice to put a remix of kicksta...  Some Turkey Nuts   \n",
       "3    Im still waiting for the full game to come out.             Dozer   \n",
       "4  My dads generation had Bad Company. \\nMy gener...          Leadkiss   \n",
       "\n",
       "                   date  score  \n",
       "0  2022-05-12T13:06:58Z  0.129  \n",
       "1  2022-05-12T12:35:43Z  0.167  \n",
       "2  2022-05-11T21:27:56Z  0.090  \n",
       "3  2022-05-11T13:57:38Z  0.000  \n",
       "4  2022-05-11T12:21:19Z  0.280  "
      ]
     },
     "execution_count": 4,
     "metadata": {},
     "output_type": "execute_result"
    }
   ],
   "source": [
    "df = pd.read_csv('../../dat/scored_comments.csv')\n",
    "df.head()"
   ]
  },
  {
   "cell_type": "code",
   "execution_count": 9,
   "id": "cbe387eb",
   "metadata": {},
   "outputs": [
    {
     "name": "stdout",
     "output_type": "stream",
     "text": [
      "Im still waiting for the full game to come out.\n"
     ]
    }
   ],
   "source": [
    "comment = df.iloc[3, 0]\n",
    "\n",
    "print(comment)"
   ]
  },
  {
   "cell_type": "code",
   "execution_count": 31,
   "id": "275567e2",
   "metadata": {},
   "outputs": [
    {
     "data": {
      "text/plain": [
       "['Im', 'still', 'waiting', 'for', 'the', 'full', 'game', 'to', 'come', 'out.']"
      ]
     },
     "execution_count": 31,
     "metadata": {},
     "output_type": "execute_result"
    }
   ],
   "source": [
    "words = [word for word in comment.split(' ')]\n",
    "\n",
    "words"
   ]
  },
  {
   "cell_type": "code",
   "execution_count": 36,
   "id": "2873b44c",
   "metadata": {},
   "outputs": [
    {
     "data": {
      "text/html": [
       "<div>\n",
       "<style scoped>\n",
       "    .dataframe tbody tr th:only-of-type {\n",
       "        vertical-align: middle;\n",
       "    }\n",
       "\n",
       "    .dataframe tbody tr th {\n",
       "        vertical-align: top;\n",
       "    }\n",
       "\n",
       "    .dataframe thead th {\n",
       "        text-align: right;\n",
       "    }\n",
       "</style>\n",
       "<table border=\"1\" class=\"dataframe\">\n",
       "  <thead>\n",
       "    <tr style=\"text-align: right;\">\n",
       "      <th></th>\n",
       "      <th>Im</th>\n",
       "      <th>still</th>\n",
       "      <th>waiting</th>\n",
       "      <th>for</th>\n",
       "      <th>the</th>\n",
       "      <th>full</th>\n",
       "      <th>game</th>\n",
       "      <th>to</th>\n",
       "      <th>come</th>\n",
       "      <th>out.</th>\n",
       "    </tr>\n",
       "  </thead>\n",
       "  <tbody>\n",
       "    <tr>\n",
       "      <th>0</th>\n",
       "      <td>Im</td>\n",
       "      <td>still</td>\n",
       "      <td>waiting</td>\n",
       "      <td>for</td>\n",
       "      <td>the</td>\n",
       "      <td>full</td>\n",
       "      <td>game</td>\n",
       "      <td>to</td>\n",
       "      <td>come</td>\n",
       "      <td>out.</td>\n",
       "    </tr>\n",
       "  </tbody>\n",
       "</table>\n",
       "</div>"
      ],
      "text/plain": [
       "   Im  still  waiting  for  the  full  game  to  come  out.\n",
       "0  Im  still  waiting  for  the  full  game  to  come  out."
      ]
     },
     "execution_count": 36,
     "metadata": {},
     "output_type": "execute_result"
    }
   ],
   "source": [
    "t = pd.DataFrame(data=[words], columns=words)\n",
    "t.concat()"
   ]
  },
  {
   "cell_type": "code",
   "execution_count": 32,
   "id": "f5f7a5bf",
   "metadata": {},
   "outputs": [
    {
     "name": "stdout",
     "output_type": "stream",
     "text": [
      "['still', 'waiting', 'for', 'the', 'full', 'game', 'to', 'come', 'out.']\n",
      "['Im', 'waiting', 'for', 'the', 'full', 'game', 'to', 'come', 'out.']\n",
      "['Im', 'still', 'for', 'the', 'full', 'game', 'to', 'come', 'out.']\n",
      "['Im', 'still', 'waiting', 'the', 'full', 'game', 'to', 'come', 'out.']\n",
      "['Im', 'still', 'waiting', 'for', 'full', 'game', 'to', 'come', 'out.']\n",
      "['Im', 'still', 'waiting', 'for', 'the', 'game', 'to', 'come', 'out.']\n",
      "['Im', 'still', 'waiting', 'for', 'the', 'full', 'to', 'come', 'out.']\n",
      "['Im', 'still', 'waiting', 'for', 'the', 'full', 'game', 'come', 'out.']\n",
      "['Im', 'still', 'waiting', 'for', 'the', 'full', 'game', 'to', 'out.']\n",
      "['Im', 'still', 'waiting', 'for', 'the', 'full', 'game', 'to', 'come']\n"
     ]
    }
   ],
   "source": [
    "\n",
    "for i, word in enumerate(words):\n",
    "    mod = words[i:]\n",
    "    mod.remove(word)\n",
    "    print(words[:i] + mod)"
   ]
  },
  {
   "cell_type": "code",
   "execution_count": 30,
   "id": "97b0f1e3",
   "metadata": {},
   "outputs": [
    {
     "ename": "AttributeError",
     "evalue": "'list' object has no attribute 'replace'",
     "output_type": "error",
     "traceback": [
      "\u001b[0;31m---------------------------------------------------------------------------\u001b[0m",
      "\u001b[0;31mAttributeError\u001b[0m                            Traceback (most recent call last)",
      "\u001b[0;32m<ipython-input-30-bf7dc32c07f6>\u001b[0m in \u001b[0;36m<module>\u001b[0;34m\u001b[0m\n\u001b[0;32m----> 1\u001b[0;31m \u001b[0mwords\u001b[0m\u001b[0;34m.\u001b[0m\u001b[0mreplace\u001b[0m\u001b[0;34m(\u001b[0m\u001b[0;34m'still'\u001b[0m\u001b[0;34m,\u001b[0m \u001b[0;34m'pepe'\u001b[0m\u001b[0;34m)\u001b[0m\u001b[0;34m\u001b[0m\u001b[0;34m\u001b[0m\u001b[0m\n\u001b[0m",
      "\u001b[0;31mAttributeError\u001b[0m: 'list' object has no attribute 'replace'"
     ]
    }
   ],
   "source": [
    "words.replace('still', 'pepe')"
   ]
  }
 ],
 "metadata": {
  "kernelspec": {
   "display_name": "Python 3",
   "language": "python",
   "name": "python3"
  },
  "language_info": {
   "codemirror_mode": {
    "name": "ipython",
    "version": 3
   },
   "file_extension": ".py",
   "mimetype": "text/x-python",
   "name": "python",
   "nbconvert_exporter": "python",
   "pygments_lexer": "ipython3",
   "version": "3.8.8"
  }
 },
 "nbformat": 4,
 "nbformat_minor": 5
}
